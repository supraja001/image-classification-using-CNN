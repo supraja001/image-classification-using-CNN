{
  "nbformat": 4,
  "nbformat_minor": 0,
  "metadata": {
    "kernelspec": {
      "display_name": "Python 3",
      "language": "python",
      "name": "python3"
    },
    "language_info": {
      "codemirror_mode": {
        "name": "ipython",
        "version": 3
      },
      "file_extension": ".py",
      "mimetype": "text/x-python",
      "name": "python",
      "nbconvert_exporter": "python",
      "pygments_lexer": "ipython3",
      "version": "3.6.5"
    },
    "colab": {
      "name": "new Prediction .ipynb",
      "provenance": []
    }
  },
  "cells": [
    {
      "cell_type": "code",
      "metadata": {
        "id": "KNUd8c3-vFoM",
        "colab": {
          "base_uri": "https://localhost:8080/"
        },
        "outputId": "298eaca2-61cb-460b-ea69-0bf821501e4e"
      },
      "source": [
        "#@title Default title text\n",
        "from keras.models import model_from_json\n",
        "json_file = open(r'cnn.json', 'r')\n",
        "loaded_model_json = json_file.read()\n",
        "json_file.close()\n",
        "loaded_model = model_from_json(loaded_model_json)\n",
        "# load weights into new model\n",
        "loaded_model.load_weights(r\"cnn.h5\")\n",
        "print(\"Loaded model from disk\")"
      ],
      "execution_count": null,
      "outputs": [
        {
          "output_type": "stream",
          "text": [
            "Loaded model from disk\n"
          ],
          "name": "stdout"
        }
      ]
    },
    {
      "cell_type": "code",
      "metadata": {
        "id": "ix3o-DEpnHhK"
      },
      "source": [
        "import tensorflow as tf\n",
        "import numpy as np"
      ],
      "execution_count": null,
      "outputs": []
    },
    {
      "cell_type": "code",
      "metadata": {
        "id": "UWsfe97_q9i7"
      },
      "source": [
        "\n",
        "from keras.models import Model\n",
        "from keras.applications.mobilenet import preprocess_input"
      ],
      "execution_count": null,
      "outputs": []
    },
    {
      "cell_type": "code",
      "metadata": {
        "id": "AR7S1xZWvFoU"
      },
      "source": [
        "from tensorflow.python.keras.preprocessing import image"
      ],
      "execution_count": null,
      "outputs": []
    },
    {
      "cell_type": "code",
      "metadata": {
        "id": "lDGK4nJKvFoX"
      },
      "source": [
        "img = image.load_img(r'IMG-20190916-WA0030.jpg', target_size=(299,299))"
      ],
      "execution_count": 38,
      "outputs": []
    },
    {
      "cell_type": "code",
      "metadata": {
        "id": "ipApBFeVvFoa",
        "colab": {
          "base_uri": "https://localhost:8080/"
        },
        "outputId": "b3b2f486-203a-4973-85a5-0fca1d10a39b"
      },
      "source": [
        "x = image.img_to_array(img)\n",
        "x = preprocess_input(x)\n",
        "x = np.expand_dims(x, axis=0)\n",
        "pred =loaded_model.predict(x)[0]\n",
        "print(pred)\n",
        "y_classes = np.argmax(pred)\n",
        "y_classes\n",
        "# 0: Dog ,  1: Human, 2:none"
      ],
      "execution_count": 39,
      "outputs": [
        {
          "output_type": "stream",
          "text": [
            "[0.0051077  0.88411885 0.11077346]\n"
          ],
          "name": "stdout"
        },
        {
          "output_type": "execute_result",
          "data": {
            "text/plain": [
              "1"
            ]
          },
          "metadata": {
            "tags": []
          },
          "execution_count": 39
        }
      ]
    }
  ]
}