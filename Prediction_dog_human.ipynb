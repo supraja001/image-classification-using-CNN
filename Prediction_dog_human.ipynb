{
  "nbformat": 4,
  "nbformat_minor": 0,
  "metadata": {
    "colab": {
      "name": "new Prediction .ipynb",
      "provenance": []
    },
    "kernelspec": {
      "display_name": "Python 3",
      "language": "python",
      "name": "python3"
    },
    "language_info": {
      "codemirror_mode": {
        "name": "ipython",
        "version": 3
      },
      "file_extension": ".py",
      "mimetype": "text/x-python",
      "name": "python",
      "nbconvert_exporter": "python",
      "pygments_lexer": "ipython3",
      "version": "3.6.5"
    }
  },
  "cells": [
    {
      "cell_type": "code",
      "metadata": {
        "colab": {
          "base_uri": "https://localhost:8080/"
        },
        "id": "KNUd8c3-vFoM",
        "outputId": "b4f601e2-d42c-425e-df57-176899ef9168"
      },
      "source": [
        "#@title \n",
        "from keras.models import model_from_json\n",
        "json_file = open(r'cnn.json', 'r')\n",
        "loaded_model_json = json_file.read()\n",
        "json_file.close()\n",
        "loaded_model = model_from_json(loaded_model_json)\n",
        "# load weights into new model\n",
        "loaded_model.load_weights(r\"cnn.h5\")\n",
        "print(\"Loaded model from disk\")"
      ],
      "execution_count": 21,
      "outputs": [
        {
          "output_type": "stream",
          "text": [
            "Loaded model from disk\n"
          ],
          "name": "stdout"
        }
      ]
    },
    {
      "cell_type": "code",
      "metadata": {
        "id": "ix3o-DEpnHhK"
      },
      "source": [
        "import tensorflow as tf\n",
        "import numpy as np"
      ],
      "execution_count": 22,
      "outputs": []
    },
    {
      "cell_type": "code",
      "metadata": {
        "id": "UWsfe97_q9i7"
      },
      "source": [
        "\n",
        "from keras.models import Model\n",
        "from keras.applications.mobilenet import preprocess_input"
      ],
      "execution_count": 23,
      "outputs": []
    },
    {
      "cell_type": "code",
      "metadata": {
        "id": "AR7S1xZWvFoU"
      },
      "source": [
        "from tensorflow.python.keras.preprocessing import image"
      ],
      "execution_count": 24,
      "outputs": []
    },
    {
      "cell_type": "code",
      "metadata": {
        "id": "lDGK4nJKvFoX"
      },
      "source": [
        "img = image.load_img(r'humanimage.jpg', target_size=(299,299))"
      ],
      "execution_count": 32,
      "outputs": []
    },
    {
      "cell_type": "code",
      "metadata": {
        "id": "ipApBFeVvFoa"
      },
      "source": [
        "x = image.img_to_array(img)\n",
        "x = preprocess_input(x)\n",
        "x = np.expand_dims(x, axis=0)\n",
        "pred =loaded_model.predict(x)[0]\n",
        "print(pred)\n",
        "y_classes = np.argmax(pred)\n",
        "y_classes\n",
        "if(y_classes==0):\n",
        "   print(\"Dog\")\n",
        "elif(y_classes==1):\n",
        "   print(\"Human\")\n",
        "else:\n",
        "   print(\"None\")\n",
        "# 0: Dog ,  1: Human, 2:none"
      ],
      "execution_count": null,
      "outputs": []
    }
  ]
}