{
  "nbformat": 4,
  "nbformat_minor": 0,
  "metadata": {
    "accelerator": "GPU",
    "colab": {
      "name": "classification.ipynb",
      "provenance": []
    },
    "kernelspec": {
      "display_name": "Python 3",
      "language": "python",
      "name": "python3"
    },
    "language_info": {
      "codemirror_mode": {
        "name": "ipython",
        "version": 3
      },
      "file_extension": ".py",
      "mimetype": "text/x-python",
      "name": "python",
      "nbconvert_exporter": "python",
      "pygments_lexer": "ipython3",
      "version": "3.6.5"
    }
  },
  "cells": [
    {
      "cell_type": "code",
      "metadata": {
        "id": "CEfO9H0acKEO"
      },
      "source": [
        "import pandas as pd\n",
        "import numpy as np\n",
        "import os\n",
        "import keras\n",
        "import tensorflow as tf\n",
        "import matplotlib.pyplot as plt\n",
        "from keras.layers import Dense,GlobalAveragePooling2D,Dropout\n",
        "from tensorflow.keras.applications.mobilenet import MobileNet\n",
        "from keras.preprocessing import image\n",
        "from keras.applications.mobilenet import preprocess_input\n",
        "from keras.preprocessing.image import ImageDataGenerator\n",
        "from keras.models import Model\n",
        "from keras.optimizers import Adam"
      ],
      "execution_count": null,
      "outputs": []
    },
    {
      "cell_type": "code",
      "metadata": {
        "id": "Zn1HnrYseHkN"
      },
      "source": [
        "\n",
        "from pydrive.auth import GoogleAuth\n",
        "from pydrive.drive import GoogleDrive\n",
        "from google.colab import auth\n",
        "from oauth2client.client import GoogleCredentials"
      ],
      "execution_count": null,
      "outputs": []
    },
    {
      "cell_type": "code",
      "metadata": {
        "id": "l2ZomCePeMxh"
      },
      "source": [
        "auth.authenticate_user()\n",
        "gauth = GoogleAuth()\n",
        "gauth.credentials = GoogleCredentials.get_application_default()\n",
        "drive = GoogleDrive(gauth)"
      ],
      "execution_count": null,
      "outputs": []
    },
    {
      "cell_type": "code",
      "metadata": {
        "id": "qWaEbHaEeMuy"
      },
      "source": [
        "file_list = drive.ListFile({'q': \"'root' in parents and trashed=false\"}).GetList()\n",
        "for file1 in file_list:\n",
        "  print('title: %s, id: %s' % (file1['title'], file1['id']))"
      ],
      "execution_count": null,
      "outputs": []
    },
    {
      "cell_type": "code",
      "metadata": {
        "id": "TtyCV1kjeMr3"
      },
      "source": [
        "downloaded = drive.CreateFile({'id': '1Jqg5zazL3f4pEi2xBeIvLpfo01GCQxMY'})\n",
        "downloaded.GetContentFile('cnndh.zip')"
      ],
      "execution_count": null,
      "outputs": []
    },
    {
      "cell_type": "code",
      "metadata": {
        "id": "1JER7L1O0Cvn"
      },
      "source": [
        ""
      ],
      "execution_count": null,
      "outputs": []
    },
    {
      "cell_type": "code",
      "metadata": {
        "id": "PBFKyZneeMqC"
      },
      "source": [
        "!unzip cnndh.zip"
      ],
      "execution_count": null,
      "outputs": []
    },
    {
      "cell_type": "code",
      "metadata": {
        "id": "yhgYnRm0eMoB"
      },
      "source": [
        "base_model= MobileNet(weights='imagenet',include_top=False)"
      ],
      "execution_count": null,
      "outputs": []
    },
    {
      "cell_type": "code",
      "metadata": {
        "id": "9l0r4sQWeMl7"
      },
      "source": [
        "base_model.summary()"
      ],
      "execution_count": null,
      "outputs": []
    },
    {
      "cell_type": "code",
      "metadata": {
        "id": "K-NxUsvneMjt"
      },
      "source": [
        "CLASSES = 3\n",
        "x = base_model.output\n",
        "x = tf.keras.layers.GlobalAveragePooling2D(name='avg_pool')(x)\n",
        "x = tf.keras.layers.Dropout(0.4)(x)\n",
        "predictions =tf.keras.layers.Dense(3, activation='softmax')(x)\n",
        "model = Model(inputs=base_model.input, outputs=predictions)"
      ],
      "execution_count": null,
      "outputs": []
    },
    {
      "cell_type": "code",
      "metadata": {
        "id": "yDqQS6k9eMhe"
      },
      "source": [
        "for layer in base_model.layers:\n",
        "    layer.trainable = False\n",
        "      \n",
        "model.compile(optimizer='rmsprop',\n",
        "              loss='categorical_crossentropy',\n",
        "              metrics=['accuracy'])"
      ],
      "execution_count": null,
      "outputs": []
    },
    {
      "cell_type": "code",
      "metadata": {
        "id": "oTAoWuxCerXo",
        "colab": {
          "base_uri": "https://localhost:8080/"
        },
        "outputId": "430ff42c-2d76-459e-cdf2-3da4991d58c0"
      },
      "source": [
        "WIDTH = 299\n",
        "HEIGHT = 299\n",
        "BATCH_SIZE = 32\n",
        "TRAIN_DIR=r'Dog_Human/train'\n",
        "TEST_DIR=r'Dog_Human/test'\n",
        "# data prep\n",
        "train_datagen = ImageDataGenerator(\n",
        "    preprocessing_function=preprocess_input,\n",
        "    rotation_range=40,\n",
        "    width_shift_range=0.2,\n",
        "    height_shift_range=0.2,\n",
        "    shear_range=0.2,\n",
        "    zoom_range=0.2,\n",
        "    horizontal_flip=True,\n",
        "    fill_mode='nearest')\n",
        "\n",
        "validation_datagen = ImageDataGenerator(\n",
        "    preprocessing_function=preprocess_input,\n",
        "    rotation_range=40,\n",
        "    width_shift_range=0.2,\n",
        "    height_shift_range=0.2,\n",
        "    shear_range=0.2,\n",
        "    zoom_range=0.2,\n",
        "    horizontal_flip=True,\n",
        "    fill_mode='nearest')\n",
        "\n",
        "train_generator = train_datagen.flow_from_directory(\n",
        "    TRAIN_DIR,\n",
        "    target_size=(HEIGHT, WIDTH),\n",
        "        batch_size=BATCH_SIZE,\n",
        "        class_mode='categorical')\n",
        "    \n",
        "validation_generator = validation_datagen.flow_from_directory(\n",
        "    TEST_DIR,\n",
        "    target_size=(HEIGHT, WIDTH),\n",
        "    batch_size=BATCH_SIZE,\n",
        "    class_mode='categorical')\n",
        "print(train_generator.class_indices)\n",
        "print(validation_generator.class_indices)"
      ],
      "execution_count": null,
      "outputs": [
        {
          "output_type": "stream",
          "text": [
            "Found 19810 images belonging to 3 classes.\n",
            "Found 3504 images belonging to 3 classes.\n",
            "{'dog': 0, 'human': 1, 'nothd': 2}\n",
            "{'dog': 0, 'human': 1, 'nothd': 2}\n"
          ],
          "name": "stdout"
        }
      ]
    },
    {
      "cell_type": "code",
      "metadata": {
        "id": "iSem-hqrc3WK"
      },
      "source": [
        "from PIL import ImageFile\n",
        "ImageFile.LOAD_TRUNCATED_IMAGES = True"
      ],
      "execution_count": null,
      "outputs": []
    },
    {
      "cell_type": "code",
      "metadata": {
        "id": "vNd0bAaFeriH",
        "colab": {
          "base_uri": "https://localhost:8080/"
        },
        "outputId": "ac5ea454-a1b6-4018-ce39-23c558339b48"
      },
      "source": [
        "EPOCHS = 2\n",
        "BATCH_SIZE = 32\n",
        "STEPS_PER_EPOCH = 320\n",
        "VALIDATION_STEPS=64\n",
        "model.fit_generator(\n",
        "    train_generator,\n",
        "    epochs=EPOCHS,\n",
        "    steps_per_epoch=STEPS_PER_EPOCH,\n",
        "    validation_data=validation_generator,\n",
        "    validation_steps=VALIDATION_STEPS\n",
        "    )"
      ],
      "execution_count": null,
      "outputs": [
        {
          "output_type": "stream",
          "text": [
            "/usr/local/lib/python3.7/dist-packages/keras/engine/training.py:1915: UserWarning: `Model.fit_generator` is deprecated and will be removed in a future version. Please use `Model.fit`, which supports generators.\n",
            "  warnings.warn('`Model.fit_generator` is deprecated and '\n"
          ],
          "name": "stderr"
        },
        {
          "output_type": "stream",
          "text": [
            "Epoch 1/2\n",
            "320/320 [==============================] - 296s 800ms/step - loss: 0.2915 - accuracy: 0.8913 - val_loss: 0.0906 - val_accuracy: 0.9658\n",
            "Epoch 2/2\n",
            "320/320 [==============================] - 254s 794ms/step - loss: 0.0463 - accuracy: 0.9863 - val_loss: 0.0521 - val_accuracy: 0.9814\n"
          ],
          "name": "stdout"
        },
        {
          "output_type": "execute_result",
          "data": {
            "text/plain": [
              "<keras.callbacks.History at 0x7fc9802f3b50>"
            ]
          },
          "metadata": {
            "tags": []
          },
          "execution_count": 13
        }
      ]
    },
    {
      "cell_type": "code",
      "metadata": {
        "id": "7QQ71PdcerfG"
      },
      "source": [
        "from tensorflow.python.keras.preprocessing import image"
      ],
      "execution_count": null,
      "outputs": []
    },
    {
      "cell_type": "code",
      "metadata": {
        "id": "jVZ8kTlLercm"
      },
      "source": [
        ""
      ],
      "execution_count": null,
      "outputs": []
    },
    {
      "cell_type": "code",
      "metadata": {
        "id": "iPEtpZGgfK76"
      },
      "source": [
        "img = image.load_img(r'Dog_Human/test/dog/1003.jpg', target_size=(299,299))\n",
        "x = image.img_to_array(img)\n",
        "x = preprocess_input(x)\n",
        "x = np.expand_dims(x, axis=0)\n",
        "pred = model.predict(x)[0]\n",
        "print(pred)\n",
        "y_classes = pred.argmax(axis=-1)\n",
        "y_classes"
      ],
      "execution_count": null,
      "outputs": []
    },
    {
      "cell_type": "code",
      "metadata": {
        "id": "3FCY7vf397Bz"
      },
      "source": [
        "img = image.load_img(r'Dog_Human/test/human/Sharon_Osbourne_0003.jpg', target_size=(299,299))\n",
        "x = image.img_to_array(img)\n",
        "x = preprocess_input(x)\n",
        "x = np.expand_dims(x, axis=0)\n",
        "pred = model.predict(x)[0]\n",
        "print(pred)\n",
        "y_classes = np.argmax(pred)\n",
        "y_classes"
      ],
      "execution_count": null,
      "outputs": []
    },
    {
      "cell_type": "code",
      "metadata": {
        "id": "olvu9d2dsXcV"
      },
      "source": [
        "!pip install keras\n",
        "!pip install keras.models\n"
      ],
      "execution_count": null,
      "outputs": []
    },
    {
      "cell_type": "code",
      "metadata": {
        "id": "XP4Jju6DfLCt"
      },
      "source": [
        "\n",
        "from keras.models import model_from_json\n",
        "model_json = model.to_json()\n",
        "\n",
        "with open(\"cnn.json\", \"w\") as json_file:\n",
        "    json_file.write(model_json)\n",
        "    \n",
        "model.save_weights(\"cnn.h5\")"
      ],
      "execution_count": null,
      "outputs": []
    },
    {
      "cell_type": "code",
      "metadata": {
        "id": "iRryenTffLJj",
        "colab": {
          "base_uri": "https://localhost:8080/"
        },
        "outputId": "f329cf4f-1681-499b-9f62-30a1827919f0"
      },
      "source": [
        "train_generator.class_indices"
      ],
      "execution_count": null,
      "outputs": [
        {
          "output_type": "execute_result",
          "data": {
            "text/plain": [
              "{'dog': 0, 'human': 1, 'nothd': 2}"
            ]
          },
          "metadata": {
            "tags": []
          },
          "execution_count": 99
        }
      ]
    }
  ]
}