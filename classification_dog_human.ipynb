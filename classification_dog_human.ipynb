{
  "nbformat": 4,
  "nbformat_minor": 0,
  "metadata": {
    "accelerator": "GPU",
    "colab": {
      "name": "new class.ipynb",
      "provenance": [],
      "collapsed_sections": []
    },
    "kernelspec": {
      "display_name": "Python 3",
      "language": "python",
      "name": "python3"
    },
    "language_info": {
      "codemirror_mode": {
        "name": "ipython",
        "version": 3
      },
      "file_extension": ".py",
      "mimetype": "text/x-python",
      "name": "python",
      "nbconvert_exporter": "python",
      "pygments_lexer": "ipython3",
      "version": "3.6.5"
    }
  },
  "cells": [
    {
      "cell_type": "code",
      "metadata": {
        "id": "CEfO9H0acKEO"
      },
      "source": [
        "import pandas as pd\n",
        "import numpy as np\n",
        "import os\n",
        "import keras\n",
        "import tensorflow as tf\n",
        "from tensorflow.keras.layers import Dense,GlobalAveragePooling2D,Dropout\n",
        "from tensorflow.keras.applications.mobilenet import MobileNet\n",
        "from keras.preprocessing import image\n",
        "from keras.applications.mobilenet import preprocess_input\n",
        "from tensorflow.keras.preprocessing.image import ImageDataGenerator\n",
        "from tensorflow.keras.models import Model\n",
        "from tensorflow.keras.optimizers import Adam"
      ],
      "execution_count": 57,
      "outputs": []
    },
    {
      "cell_type": "code",
      "metadata": {
        "id": "Zn1HnrYseHkN"
      },
      "source": [
        "\n",
        "from pydrive.auth import GoogleAuth\n",
        "from pydrive.drive import GoogleDrive\n",
        "from google.colab import auth\n",
        "from oauth2client.client import GoogleCredentials"
      ],
      "execution_count": 7,
      "outputs": []
    },
    {
      "cell_type": "code",
      "metadata": {
        "id": "l2ZomCePeMxh"
      },
      "source": [
        "auth.authenticate_user()\n",
        "gauth = GoogleAuth()\n",
        "gauth.credentials = GoogleCredentials.get_application_default()\n",
        "drive = GoogleDrive(gauth)"
      ],
      "execution_count": 8,
      "outputs": []
    },
    {
      "cell_type": "code",
      "metadata": {
        "id": "qWaEbHaEeMuy"
      },
      "source": [
        "file_list = drive.ListFile({'q': \"'root' in parents and trashed=false\"}).GetList()\n",
        "for file1 in file_list:\n",
        "  print('title: %s, id: %s' % (file1['title'], file1['id']))"
      ],
      "execution_count": null,
      "outputs": []
    },
    {
      "cell_type": "code",
      "metadata": {
        "id": "TtyCV1kjeMr3"
      },
      "source": [
        "downloaded = drive.CreateFile({'id': '16qBB5M1R81wW_bEtCs4eJg1SVHsQn9q4'})\n",
        "downloaded.GetContentFile('cnndh.zip')"
      ],
      "execution_count": 11,
      "outputs": []
    },
    {
      "cell_type": "code",
      "metadata": {
        "id": "PBFKyZneeMqC"
      },
      "source": [
        "!unzip cnndh.zip"
      ],
      "execution_count": null,
      "outputs": []
    },
    {
      "cell_type": "code",
      "metadata": {
        "id": "yhgYnRm0eMoB"
      },
      "source": [
        "base_model= MobileNet(weights='imagenet',include_top=False)"
      ],
      "execution_count": null,
      "outputs": []
    },
    {
      "cell_type": "code",
      "metadata": {
        "id": "9l0r4sQWeMl7"
      },
      "source": [
        "base_model.summary()"
      ],
      "execution_count": null,
      "outputs": []
    },
    {
      "cell_type": "code",
      "metadata": {
        "id": "K-NxUsvneMjt"
      },
      "source": [
        "CLASSES = 3\n",
        "x = base_model.output\n",
        "x = tf.keras.layers.GlobalAveragePooling2D(name='avg_pool')(x)\n",
        "x = tf.keras.layers.Dropout(0.4)(x)\n",
        "predictions =tf.keras.layers.Dense(3, activation='softmax')(x)\n",
        "model = Model(inputs=base_model.input, outputs=predictions)\n"
      ],
      "execution_count": 72,
      "outputs": []
    },
    {
      "cell_type": "code",
      "metadata": {
        "id": "yDqQS6k9eMhe"
      },
      "source": [
        "for layer in base_model.layers:\n",
        "    layer.trainable = False\n",
        "      \n",
        "model.compile(optimizer='rmsprop',\n",
        "              loss='categorical_crossentropy',\n",
        "              metrics=['accuracy'])"
      ],
      "execution_count": 73,
      "outputs": []
    },
    {
      "cell_type": "code",
      "metadata": {
        "colab": {
          "base_uri": "https://localhost:8080/"
        },
        "id": "oTAoWuxCerXo",
        "outputId": "bbc72ee5-6077-4764-d41b-7b20cdad2ab2"
      },
      "source": [
        "WIDTH = 299\n",
        "HEIGHT = 299\n",
        "BATCH_SIZE = 32\n",
        "TRAIN_DIR=r'Dog_Human/train'\n",
        "TEST_DIR=r'Dog_Human/test'\n",
        "# data prep\n",
        "train_datagen = ImageDataGenerator(\n",
        "    preprocessing_function=preprocess_input,\n",
        "    shear_range=0.2,\n",
        "    zoom_range=0.2,\n",
        "    horizontal_flip=True)\n",
        "\n",
        "validation_datagen = ImageDataGenerator(\n",
        "    preprocessing_function=preprocess_input,\n",
        "    shear_range=0.2,\n",
        "    zoom_range=0.2,\n",
        "    horizontal_flip=True)\n",
        "\n",
        "train_generator = train_datagen.flow_from_directory(\n",
        "    TRAIN_DIR,\n",
        "    target_size=(HEIGHT, WIDTH),\n",
        "        batch_size=BATCH_SIZE,\n",
        "        class_mode='categorical')\n",
        "    \n",
        "validation_generator = validation_datagen.flow_from_directory(\n",
        "    TEST_DIR,\n",
        "    target_size=(HEIGHT, WIDTH),\n",
        "    batch_size=BATCH_SIZE,\n",
        "    class_mode='categorical')\n",
        "print(train_generator.class_indices)\n",
        "print(validation_generator.class_indices)"
      ],
      "execution_count": 74,
      "outputs": [
        {
          "output_type": "stream",
          "text": [
            "Found 19810 images belonging to 3 classes.\n",
            "Found 3504 images belonging to 3 classes.\n",
            "{'dog': 0, 'human': 1, 'nothd': 2}\n",
            "{'dog': 0, 'human': 1, 'nothd': 2}\n"
          ],
          "name": "stdout"
        }
      ]
    },
    {
      "cell_type": "code",
      "metadata": {
        "id": "iSem-hqrc3WK"
      },
      "source": [
        "from PIL import ImageFile\n",
        "ImageFile.LOAD_TRUNCATED_IMAGES = True"
      ],
      "execution_count": 75,
      "outputs": []
    },
    {
      "cell_type": "code",
      "metadata": {
        "colab": {
          "base_uri": "https://localhost:8080/"
        },
        "id": "vNd0bAaFeriH",
        "outputId": "4c7ea72d-99d1-40e9-dc11-ba004c735b92"
      },
      "source": [
        "\n",
        "BATCH_SIZE = 32\n",
        "model.fit(\n",
        "    train_generator,\n",
        "    epochs=2,\n",
        "    steps_per_epoch=len(train_generator),\n",
        "    validation_data=validation_generator,\n",
        "    validation_steps=len(validation_generator)\n",
        "    )"
      ],
      "execution_count": 83,
      "outputs": [
        {
          "output_type": "stream",
          "text": [
            "Epoch 1/2\n",
            "620/620 [==============================] - 501s 809ms/step - loss: 0.0339 - accuracy: 0.9882 - val_loss: 0.0405 - val_accuracy: 0.9857\n",
            "Epoch 2/2\n",
            "620/620 [==============================] - 501s 808ms/step - loss: 0.0274 - accuracy: 0.9903 - val_loss: 0.0394 - val_accuracy: 0.9880\n"
          ],
          "name": "stdout"
        },
        {
          "output_type": "execute_result",
          "data": {
            "text/plain": [
              "<tensorflow.python.keras.callbacks.History at 0x7f57db94d8d0>"
            ]
          },
          "metadata": {
            "tags": []
          },
          "execution_count": 83
        }
      ]
    },
    {
      "cell_type": "code",
      "metadata": {
        "id": "7QQ71PdcerfG"
      },
      "source": [
        "from tensorflow.python.keras.preprocessing import image\n",
        "from keras.models import Sequential\n",
        "from keras.layers import Dense\n",
        "from keras.models import model_from_json"
      ],
      "execution_count": 79,
      "outputs": []
    },
    {
      "cell_type": "code",
      "metadata": {
        "colab": {
          "base_uri": "https://localhost:8080/"
        },
        "id": "iPEtpZGgfK76",
        "outputId": "01b077ee-9075-493d-9752-8129f4d01ad8"
      },
      "source": [
        "img = image.load_img(r'Dog_Human/test/dog/1003.jpg', target_size=(299,299))\n",
        "x = image.img_to_array(img)\n",
        "x = preprocess_input(x)\n",
        "x = np.expand_dims(x, axis=0)\n",
        "pred = model.predict(x)[0]\n",
        "print(pred)\n",
        "y_classes = pred.argmax(axis=-1)\n",
        "y_classes"
      ],
      "execution_count": 36,
      "outputs": [
        {
          "output_type": "stream",
          "text": [
            "[9.9997902e-01 2.1624223e-07 2.0795040e-05]\n"
          ],
          "name": "stdout"
        },
        {
          "output_type": "execute_result",
          "data": {
            "text/plain": [
              "0"
            ]
          },
          "metadata": {
            "tags": []
          },
          "execution_count": 36
        }
      ]
    },
    {
      "cell_type": "code",
      "metadata": {
        "colab": {
          "base_uri": "https://localhost:8080/"
        },
        "id": "3FCY7vf397Bz",
        "outputId": "8a0e48cb-376c-4c80-e9ab-226fd098e1b3"
      },
      "source": [
        "img = image.load_img(r'Dog_Human/test/human/Sharon_Osbourne_0003.jpg', target_size=(299,299))\n",
        "x = image.img_to_array(img)\n",
        "x = preprocess_input(x)\n",
        "x = np.expand_dims(x, axis=0)\n",
        "pred = model.predict(x)[0]\n",
        "print(pred)\n",
        "y_classes = np.argmax(pred)\n",
        "y_classes"
      ],
      "execution_count": null,
      "outputs": [
        {
          "output_type": "stream",
          "text": [
            "[0.01346153 0.97722685 0.00931159]\n"
          ],
          "name": "stdout"
        },
        {
          "output_type": "execute_result",
          "data": {
            "text/plain": [
              "1"
            ]
          },
          "metadata": {
            "tags": []
          },
          "execution_count": 45
        }
      ]
    },
    {
      "cell_type": "code",
      "metadata": {
        "id": "XP4Jju6DfLCt"
      },
      "source": [
        "\n",
        "from tensorflow.keras.models import model_from_json\n",
        "model_json = model.to_json()\n",
        "\n",
        "\n",
        "with open(\"cnn.json\", \"w\") as json_file:\n",
        "    json_file.write(model_json)\n",
        "    \n",
        "model.save_weights(\"cnn.h5\")"
      ],
      "execution_count": 82,
      "outputs": []
    },
    {
      "cell_type": "code",
      "metadata": {
        "colab": {
          "base_uri": "https://localhost:8080/"
        },
        "id": "iRryenTffLJj",
        "outputId": "d316135e-b36e-4488-cf48-a2c31f9f9220"
      },
      "source": [
        "train_generator.class_indices"
      ],
      "execution_count": 44,
      "outputs": [
        {
          "output_type": "execute_result",
          "data": {
            "text/plain": [
              "{'dog': 0, 'human': 1, 'nothd': 2}"
            ]
          },
          "metadata": {
            "tags": []
          },
          "execution_count": 44
        }
      ]
    }
  ]
}